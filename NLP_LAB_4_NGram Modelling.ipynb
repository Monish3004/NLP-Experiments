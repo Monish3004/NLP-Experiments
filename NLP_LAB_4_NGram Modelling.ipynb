{
  "cells": [
    {
      "cell_type": "code",
      "execution_count": 1,
      "metadata": {
        "colab": {
          "base_uri": "https://localhost:8080/"
        },
        "id": "BCs90dNOVBP9",
        "outputId": "0abcd6a0-1e7d-4b13-f64f-2e069ee0774e"
      },
      "outputs": [
        {
          "name": "stdout",
          "output_type": "stream",
          "text": [
            "[('This', 'is', 'Monish')]\n",
            "[('This', 'is'), ('is', 'Monish')]\n"
          ]
        }
      ],
      "source": [
        "import nltk\n",
        "from nltk import bigrams, trigrams\n",
        "\n",
        "i = input(\"Sentence:\")\n",
        "# Tokenize the text\n",
        "words = nltk.word_tokenize(i)\n",
        "\n",
        "tri_grams = list(trigrams(words))\n",
        "bi_grams = list(bigrams(words))\n",
        "\n",
        "\n",
        "print(bi_grams)\n",
        "print(tri_grams)"
      ]
    },
    {
      "cell_type": "code",
      "execution_count": 2,
      "metadata": {
        "colab": {
          "base_uri": "https://localhost:8080/"
        },
        "id": "lZlCJuZbd2Kx",
        "outputId": "f279e057-2f9f-4377-d54b-70692ef170eb"
      },
      "outputs": [
        {
          "name": "stdout",
          "output_type": "stream",
          "text": [
            "[('This', 'is'), ('is', 'Monish')]\n"
          ]
        }
      ],
      "source": [
        "\n",
        "def generate_ngrams(text, n):\n",
        "  tokens = nltk.word_tokenize(text)\n",
        "  ngrams = list(nltk.ngrams(tokens, n))\n",
        "  return ngrams\n",
        "\n",
        "i = input(\"Sentence:\")\n",
        "\n",
        "n = int(input(\"Enter the value of n for n-grams: \"))\n",
        "ngrams = generate_ngrams(i, n)\n",
        "print(ngrams)"
      ]
    }
  ],
  "metadata": {
    "colab": {
      "provenance": []
    },
    "kernelspec": {
      "display_name": "Python 3",
      "name": "python3"
    },
    "language_info": {
      "codemirror_mode": {
        "name": "ipython",
        "version": 3
      },
      "file_extension": ".py",
      "mimetype": "text/x-python",
      "name": "python",
      "nbconvert_exporter": "python",
      "pygments_lexer": "ipython3",
      "version": "3.12.6"
    }
  },
  "nbformat": 4,
  "nbformat_minor": 0
}

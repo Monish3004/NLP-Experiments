{
  "cells": [
    {
      "cell_type": "code",
      "execution_count": 1,
      "metadata": {
        "colab": {
          "base_uri": "https://localhost:8080/"
        },
        "id": "CqmB-j-TMfKw",
        "outputId": "c14e7f9a-4ac9-40e9-c789-f1a88794084e"
      },
      "outputs": [
        {
          "name": "stderr",
          "output_type": "stream",
          "text": [
            "[nltk_data] Downloading package wordnet to\n",
            "[nltk_data]     /Users/monishkumar/nltk_data...\n",
            "[nltk_data]   Package wordnet is already up-to-date!\n"
          ]
        },
        {
          "data": {
            "text/plain": [
              "True"
            ]
          },
          "execution_count": 1,
          "metadata": {},
          "output_type": "execute_result"
        }
      ],
      "source": [
        "import nltk\n",
        "nltk.download('wordnet')"
      ]
    },
    {
      "cell_type": "code",
      "execution_count": 3,
      "metadata": {},
      "outputs": [
        {
          "name": "stdout",
          "output_type": "stream",
          "text": [
            "Collecting inflect\n",
            "  Downloading inflect-7.4.0-py3-none-any.whl.metadata (21 kB)\n",
            "Collecting more-itertools>=8.5.0 (from inflect)\n",
            "  Downloading more_itertools-10.5.0-py3-none-any.whl.metadata (36 kB)\n",
            "Collecting typeguard>=4.0.1 (from inflect)\n",
            "  Downloading typeguard-4.3.0-py3-none-any.whl.metadata (3.7 kB)\n",
            "Requirement already satisfied: typing-extensions>=4.10.0 in ./.venv/lib/python3.12/site-packages (from typeguard>=4.0.1->inflect) (4.12.2)\n",
            "Downloading inflect-7.4.0-py3-none-any.whl (34 kB)\n",
            "Downloading more_itertools-10.5.0-py3-none-any.whl (60 kB)\n",
            "Downloading typeguard-4.3.0-py3-none-any.whl (35 kB)\n",
            "Installing collected packages: typeguard, more-itertools, inflect\n",
            "Successfully installed inflect-7.4.0 more-itertools-10.5.0 typeguard-4.3.0\n"
          ]
        }
      ],
      "source": [
        "!pip install inflect"
      ]
    },
    {
      "cell_type": "code",
      "execution_count": 2,
      "metadata": {
        "colab": {
          "base_uri": "https://localhost:8080/"
        },
        "id": "HMjH7AFVF7gF",
        "outputId": "7b9342dc-eb67-4fed-d36f-2e8ffe76545e"
      },
      "outputs": [
        {
          "name": "stdout",
          "output_type": "stream",
          "text": [
            "{'singular': 'play', 'plural': 'plays', 'past': 'played', 'present_participle': 'playing', 'third_person_singular': 'plays'}\n"
          ]
        }
      ],
      "source": [
        "import inflect\n",
        "from nltk.corpus import wordnet\n",
        "from nltk.stem import WordNetLemmatizer\n",
        "from nltk.corpus import wordnet as wn\n",
        "from nltk.corpus.reader.wordnet import NOUN, VERB\n",
        "\n",
        "p = inflect.engine()\n",
        "lemmatizer = WordNetLemmatizer()\n",
        "\n",
        "def get_tenses(word):\n",
        "    tenses = {}\n",
        "\n",
        "    tenses['singular'] = lemmatizer.lemmatize(word, NOUN)\n",
        "    tenses['plural'] = p.plural(word)\n",
        "\n",
        "    base = lemmatizer.lemmatize(word, VERB)\n",
        "\n",
        "    tenses['past'] = base + \"ed\"\n",
        "\n",
        "    tenses['present_participle'] = base + \"ing\"\n",
        "\n",
        "    if base.endswith('s') or base.endswith('z') or base.endswith('x') or base.endswith('ch') or base.endswith('sh'):\n",
        "        tenses['third_person_singular'] = base + \"es\"\n",
        "    else:\n",
        "        tenses['third_person_singular'] = base + \"s\"\n",
        "\n",
        "    return tenses\n",
        "\n",
        "word = \"play\"\n",
        "tenses = get_tenses(word)\n",
        "print(tenses)"
      ]
    }
  ],
  "metadata": {
    "colab": {
      "provenance": []
    },
    "kernelspec": {
      "display_name": "Python 3",
      "name": "python3"
    },
    "language_info": {
      "codemirror_mode": {
        "name": "ipython",
        "version": 3
      },
      "file_extension": ".py",
      "mimetype": "text/x-python",
      "name": "python",
      "nbconvert_exporter": "python",
      "pygments_lexer": "ipython3",
      "version": "3.12.6"
    }
  },
  "nbformat": 4,
  "nbformat_minor": 0
}
